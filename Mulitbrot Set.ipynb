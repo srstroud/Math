{
 "cells": [
  {
   "cell_type": "code",
   "execution_count": 6,
   "metadata": {},
   "outputs": [],
   "source": [
    "from pylab import imshow,show,gray\n",
    "#from numpy import zeros,linspace\n",
    "import numpy as np\n",
    "from scipy.special import lambertw"
   ]
  },
  {
   "cell_type": "code",
   "execution_count": 16,
   "metadata": {},
   "outputs": [
    {
     "name": "stderr",
     "output_type": "stream",
     "text": [
      "D:\\Python\\Anaconda\\lib\\site-packages\\ipykernel_launcher.py:13: RuntimeWarning: divide by zero encountered in log\n",
      "  del sys.path[0]\n",
      "D:\\Python\\Anaconda\\lib\\site-packages\\ipykernel_launcher.py:13: RuntimeWarning: invalid value encountered in cdouble_scalars\n",
      "  del sys.path[0]\n",
      "D:\\Python\\Anaconda\\lib\\site-packages\\ipykernel_launcher.py:13: RuntimeWarning: invalid value encountered in log\n",
      "  del sys.path[0]\n"
     ]
    },
    {
     "data": {
      "image/png": "[encoded data removed]",
      "text/plain": [
       "<Figure size 432x288 with 1 Axes>"
      ]
     },
     "metadata": {
      "needs_background": "light"
     },
     "output_type": "display_data"
    }
   ],
   "source": [
    "n=100\n",
    "\n",
    "M = np.zeros([n,n],int)\n",
    "xvalues = np.linspace(-4,4,n)\n",
    "yvalues = np.linspace(-4,4,n)\n",
    "\n",
    "for u,x in enumerate(xvalues):\n",
    "    for v,y in enumerate(yvalues):\n",
    "        z = 0 + 0j\n",
    "        c = complex(x,y)\n",
    "        for i in range(100):\n",
    "            #z = z**2 + c\n",
    "            z = -lambertw(-np.log(z))/np.log(z)\n",
    "            if abs(z) > 4.0:\n",
    "                M[v,u] = 1\n",
    "                break\n",
    "\n",
    "imshow(M,origin=\"lower\")\n",
    "gray()\n",
    "show()"
   ]
  },
  {
   "cell_type": "code",
   "execution_count": null,
   "metadata": {},
   "outputs": [],
   "source": []
  }
 ],
 "metadata": {
  "kernelspec": {
   "display_name": "Python 3",
   "language": "python",
   "name": "python3"
  },
  "language_info": {
   "codemirror_mode": {
    "name": "ipython",
    "version": 3
   },
   "file_extension": ".py",
   "mimetype": "text/x-python",
   "name": "python",
   "nbconvert_exporter": "python",
   "pygments_lexer": "ipython3",
   "version": "3.7.3"
  }
 },
 "nbformat": 4,
 "nbformat_minor": 2
}
