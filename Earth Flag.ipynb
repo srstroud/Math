{
 "cells": [
  {
   "cell_type": "code",
   "execution_count": 2,
   "metadata": {},
   "outputs": [],
   "source": [
    "import numpy as np\n",
    "import matplotlib.pyplot as plt\n",
    "import matplotlib.patches as mpatches"
   ]
  },
  {
   "cell_type": "code",
   "execution_count": 17,
   "metadata": {
    "scrolled": true
   },
   "outputs": [
    {
     "data": {
      "image/png": "[encoded data removed]",
      "text/plain": [
       "<Figure size 432x288 with 1 Axes>"
      ]
     },
     "metadata": {
      "needs_background": "light"
     },
     "output_type": "display_data"
    }
   ],
   "source": [
    "#space = plt.Circle((0,0),color='k')\n",
    "space = plt.Rectangle((-3,-39/22),6,39/11,color='k')\n",
    "sun_top = plt.Rectangle((-3,17/11),6,5/22,color='gold')\n",
    "sun_bot = plt.Rectangle((-3,-39/22),6,5/22,color='gold')\n",
    "earth = plt.Circle((-1,0),1,color='g')\n",
    "moon = plt.Circle((14/11,0),3/11,color='w')\n",
    "yin = plt.Circle((-1,-1/2),1/2,color='b')\n",
    "yang = plt.Circle((-1,1/2),1/2,color='b')\n",
    "calibring1 = plt.Circle((27/22,0),39/22,color='r',fill=False)\n",
    "calibring2 = plt.Circle((-27/22,0),39/22,color='r',fill=False)\n",
    "plt.gca().add_artist(space)\n",
    "plt.gca().add_artist(earth)\n",
    "plt.gca().add_artist(yin)\n",
    "plt.gca().add_artist(yang)\n",
    "plt.gca().add_artist(moon)\n",
    "plt.gca().add_artist(sun_top)\n",
    "plt.gca().add_artist(sun_bot)\n",
    "#plt.gca().add_artist(calibring1)\n",
    "#plt.gca().add_artist(calibring2)\n",
    "\n",
    "plt.xlim((-3,3))\n",
    "plt.ylim((-39/22, 39/22))\n",
    "plt.axis('equal')\n",
    "plt.axis('off')\n",
    "\n",
    "plt.savefig('EarthTest5.png', bbox_inches='tight', pad_inches=0, dpi=300)\n",
    "plt.show()"
   ]
  },
  {
   "cell_type": "code",
   "execution_count": null,
   "metadata": {},
   "outputs": [],
   "source": []
  },
  {
   "cell_type": "code",
   "execution_count": 141,
   "metadata": {},
   "outputs": [
    {
     "name": "stderr",
     "output_type": "stream",
     "text": [
      "D:\\Python\\Anaconda\\lib\\site-packages\\ipykernel_launcher.py:7: RuntimeWarning: invalid value encountered in sqrt\n",
      "  import sys\n",
      "D:\\Python\\Anaconda\\lib\\site-packages\\ipykernel_launcher.py:8: RuntimeWarning: invalid value encountered in sqrt\n",
      "  \n",
      "D:\\Python\\Anaconda\\lib\\site-packages\\ipykernel_launcher.py:9: RuntimeWarning: invalid value encountered in sqrt\n",
      "  if __name__ == '__main__':\n"
     ]
    },
    {
     "data": {
      "image/png": "[encoded data removed]",
      "text/plain": [
       "<Figure size 432x288 with 1 Axes>"
      ]
     },
     "metadata": {
      "needs_background": "light"
     },
     "output_type": "display_data"
    }
   ],
   "source": [
    "c = np.linspace(-2,2,num=2**16)\n",
    "c2 = np.linspace(-2,-1,num=2**16)\n",
    "c3 = np.linspace(0,-1,num=2**16)\n",
    "r = np.linspace(-3,3,num=2**16)\n",
    "t = np.arange(-2,5)\n",
    "earth = np.sqrt(1-(c+1)**2)\n",
    "tao1 = np.sqrt((1/2)**2-(c2+1)**2) + 1/2 \n",
    "tao2 = np.sqrt((1/2)**2-(c2+1)**2) - 1/2 \n",
    "moon = np.sqrt((3/11)**2-(c-14/11)**2)\n",
    "\n",
    "if earth.any()>0:\n",
    "    paint = 'blue'\n",
    "elif earth.any()<0:\n",
    "    paint = 'green'\n",
    "else:\n",
    "    paint = 'red'\n",
    "\n",
    "#Flag Boundary\n",
    "#plt.plot(r, 39/22*np.ones(len(r)), c='k')\n",
    "#plt.plot(r, -39/22*np.ones(len(r)), c='k')\n",
    "#plt.fill_between(r, 39/22*np.ones(len(r)), -39/22*np.ones(len(r)), color='k')\n",
    "\n",
    "#Pennant Boundary\n",
    "plt.fill_between(r, (13*r-39)/44, (39-13*r)/44, color='k')\n",
    "\n",
    "#Earth\n",
    "#plt.plot(c, earth, color=paint)\n",
    "#plt.plot(c, -earth, color=paint)\n",
    "plt.fill_between(c, earth, -earth, color=paint)\n",
    "\n",
    "#Taijitu\n",
    "#plt.plot(c2, tao1, color='r')\n",
    "#plt.plot(c2, -tao2, color='purple')\n",
    "#plt.plot(c3, tao2, color='magenta')\n",
    "#plt.plot(c3, -tao1, color='g')\n",
    "\n",
    "#Moon\n",
    "#plt.plot(c, moon, color='white')\n",
    "#plt.plot(c, -moon, color='white')\n",
    "plt.fill_between(c, moon, -moon, color='white')\n",
    "\n",
    "plt.axis('equal')\n",
    "plt.xlim(-3,3)\n",
    "plt.ylim(-39/22,39/22)\n",
    "#plt.axis('off')\n",
    "#plt.grid()\n",
    "plt.show()"
   ]
  },
  {
   "cell_type": "code",
   "execution_count": 103,
   "metadata": {},
   "outputs": [
    {
     "data": {
      "text/plain": [
       "array([0.        , 0.01104846, 0.01562464, ...,        nan,        nan,\n",
       "              nan])"
      ]
     },
     "execution_count": 103,
     "metadata": {},
     "output_type": "execute_result"
    }
   ],
   "source": [
    "earth"
   ]
  },
  {
   "cell_type": "code",
   "execution_count": 117,
   "metadata": {},
   "outputs": [
    {
     "data": {
      "text/plain": [
       "1.6923076923076923"
      ]
     },
     "execution_count": 117,
     "metadata": {},
     "output_type": "execute_result"
    }
   ],
   "source": [
    "3/(39/22)\n",
    "6/(39/11)"
   ]
  },
  {
   "cell_type": "code",
   "execution_count": 6,
   "metadata": {},
   "outputs": [
    {
     "data": {
      "text/plain": [
       "1.6923076923076923"
      ]
     },
     "execution_count": 6,
     "metadata": {},
     "output_type": "execute_result"
    }
   ],
   "source": [
    "22/13"
   ]
  },
  {
   "cell_type": "code",
   "execution_count": 7,
   "metadata": {},
   "outputs": [
    {
     "data": {
      "text/plain": [
       "1.5397350993377483"
      ]
     },
     "execution_count": 7,
     "metadata": {},
     "output_type": "execute_result"
    }
   ],
   "source": [
    "1395/906"
   ]
  },
  {
   "cell_type": "code",
   "execution_count": 8,
   "metadata": {},
   "outputs": [
    {
     "data": {
      "text/plain": [
       "1.5391705069124424"
      ]
     },
     "execution_count": 8,
     "metadata": {},
     "output_type": "execute_result"
    }
   ],
   "source": [
    "334/217"
   ]
  },
  {
   "cell_type": "code",
   "execution_count": null,
   "metadata": {},
   "outputs": [],
   "source": []
  },
  {
   "cell_type": "code",
   "execution_count": null,
   "metadata": {},
   "outputs": [],
   "source": []
  }
 ],
 "metadata": {
  "kernelspec": {
   "display_name": "Python 3",
   "language": "python",
   "name": "python3"
  },
  "language_info": {
   "codemirror_mode": {
    "name": "ipython",
    "version": 3
   },
   "file_extension": ".py",
   "mimetype": "text/x-python",
   "name": "python",
   "nbconvert_exporter": "python",
   "pygments_lexer": "ipython3",
   "version": "3.7.3"
  }
 },
 "nbformat": 4,
 "nbformat_minor": 2
}
