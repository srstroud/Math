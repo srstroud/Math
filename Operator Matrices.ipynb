{
 "cells": [
  {
   "cell_type": "code",
   "execution_count": 28,
   "metadata": {},
   "outputs": [],
   "source": [
    "import numpy as np\n",
    "import math"
   ]
  },
  {
   "cell_type": "code",
   "execution_count": 62,
   "metadata": {},
   "outputs": [],
   "source": [
    "def mat3(x):\n",
    "    r = np.array([x+2,x*2,x**2,x**x])\n",
    "    m = np.zeros((3,3))\n",
    "    np.fill_diagonal(m, 2)\n",
    "    m[0][1] = m[1][2] = x\n",
    "    m[0][2] = x*(x-1)\n",
    "    m[1][0] = 2/x + 1\n",
    "    m[2][0] = math.log(2/x + 1, x) + 1\n",
    "    m[2][1] = math.log(2,x)+1\n",
    "    print(r)\n",
    "    return m"
   ]
  },
  {
   "cell_type": "code",
   "execution_count": 68,
   "metadata": {},
   "outputs": [
    {
     "name": "stdout",
     "output_type": "stream",
     "text": [
      "[  6   8  16 256]\n"
     ]
    },
    {
     "data": {
      "text/plain": [
       "array([[ 2.        ,  4.        , 12.        ],\n",
       "       [ 1.5       ,  2.        ,  4.        ],\n",
       "       [ 1.29248125,  1.5       ,  2.        ]])"
      ]
     },
     "execution_count": 68,
     "metadata": {},
     "output_type": "execute_result"
    }
   ],
   "source": [
    "mat3(4)"
   ]
  },
  {
   "cell_type": "code",
   "execution_count": 60,
   "metadata": {},
   "outputs": [
    {
     "data": {
      "text/plain": [
       "5.999989599802102"
      ]
     },
     "execution_count": 60,
     "metadata": {},
     "output_type": "execute_result"
    }
   ],
   "source": [
    "4**1.29248"
   ]
  },
  {
   "cell_type": "code",
   "execution_count": null,
   "metadata": {},
   "outputs": [],
   "source": []
  }
 ],
 "metadata": {
  "kernelspec": {
   "display_name": "Python 3",
   "language": "python",
   "name": "python3"
  },
  "language_info": {
   "codemirror_mode": {
    "name": "ipython",
    "version": 3
   },
   "file_extension": ".py",
   "mimetype": "text/x-python",
   "name": "python",
   "nbconvert_exporter": "python",
   "pygments_lexer": "ipython3",
   "version": "3.7.3"
  }
 },
 "nbformat": 4,
 "nbformat_minor": 2
}
